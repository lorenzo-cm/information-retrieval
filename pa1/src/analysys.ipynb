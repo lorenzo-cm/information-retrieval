{
 "cells": [
  {
   "cell_type": "markdown",
   "metadata": {},
   "source": [
    "## Imports"
   ]
  },
  {
   "cell_type": "code",
   "execution_count": null,
   "metadata": {},
   "outputs": [],
   "source": [
    "import os\n",
    "import gzip\n",
    "from warcio.archiveiterator import ArchiveIterator\n",
    "import tldextract # easier to import\n",
    "from collections import Counter\n",
    "import matplotlib.pyplot as plt\n",
    "import seaborn as sns"
   ]
  },
  {
   "cell_type": "markdown",
   "metadata": {},
   "source": [
    "## Get file names"
   ]
  },
  {
   "cell_type": "code",
   "execution_count": null,
   "metadata": {},
   "outputs": [],
   "source": [
    "data_path = '../data'\n",
    "files = [f for f in os.listdir(data_path) if os.path.isfile(os.path.join(data_path, f))]\n",
    "len_files = len(files)"
   ]
  },
  {
   "cell_type": "markdown",
   "metadata": {},
   "source": [
    "## Count domains"
   ]
  },
  {
   "cell_type": "code",
   "execution_count": null,
   "metadata": {},
   "outputs": [],
   "source": [
    "domains = set()\n",
    "pages_per_domain = Counter()\n",
    "tokens_per_page = []\n",
    "total_pages_valid = 0\n",
    "all_urls = []"
   ]
  },
  {
   "cell_type": "code",
   "execution_count": null,
   "metadata": {},
   "outputs": [],
   "source": [
    "for f in files:\n",
    "    filepath = data_path + '/' + f\n",
    "    try:\n",
    "        with gzip.open(filepath, 'rb') as stream:\n",
    "            for record in ArchiveIterator(stream):\n",
    "                url = record.rec_headers.get_header('WARC-Target-URI')\n",
    "                \n",
    "                if not url:\n",
    "                    raise ValueError(f\"Invalid URL: [{url}]\")\n",
    "                \n",
    "                \n",
    "                all_urls.append(url)\n",
    "                extracted = tldextract.extract(url)\n",
    "                domain = f\"{extracted.domain}.{extracted.suffix}\"\n",
    "\n",
    "                domains.add(domain)\n",
    "                pages_per_domain[domain] += 1\n",
    "                total_pages_valid += 1\n",
    "                \n",
    "                payload = record.content_stream().read()\n",
    "                html = payload.decode('utf-8')\n",
    "                \n",
    "                tokens_per_page.append(len(html))\n",
    "                    \n",
    "                \n",
    "    except Exception as e:\n",
    "        print(f\"Error in {filepath}: {e}\")\n",
    "        continue"
   ]
  },
  {
   "cell_type": "markdown",
   "metadata": {},
   "source": [
    "## Dominios encontrados x todas URLs"
   ]
  },
  {
   "cell_type": "code",
   "execution_count": null,
   "metadata": {},
   "outputs": [],
   "source": [
    "plt.figure(figsize=(6,4))\n",
    "plt.bar([\"Total URLs\", \"Domínios únicos\"],\n",
    "        [total_pages_valid, len(domains)],\n",
    "        color=[\"steelblue\", \"seagreen\"])\n",
    "plt.ylabel(\"Contagem\")\n",
    "plt.grid(axis=\"y\")\n",
    "plt.tight_layout()"
   ]
  },
  {
   "cell_type": "markdown",
   "metadata": {},
   "source": [
    "## Paginas por dominio"
   ]
  },
  {
   "cell_type": "code",
   "execution_count": null,
   "metadata": {},
   "outputs": [],
   "source": [
    "pages_per_domain_values = list(pages_per_domain.values())\n",
    "curve = []"
   ]
  },
  {
   "cell_type": "code",
   "execution_count": null,
   "metadata": {},
   "outputs": [],
   "source": [
    "plt.figure(figsize=(7, 4))\n",
    "\n",
    "\n",
    "sns.kdeplot(\n",
    "    pages_per_domain_values,\n",
    "    bw_adjust=2,\n",
    "    log_scale=(True, False)\n",
    ")\n",
    "\n",
    "plt.xlabel(\"# webpages por domínio\")\n",
    "plt.ylabel(\"Densidade (log)\")\n",
    "plt.tight_layout()\n",
    "plt.show()"
   ]
  },
  {
   "cell_type": "markdown",
   "metadata": {},
   "source": [
    "## Media de caracteres por pagina"
   ]
  },
  {
   "cell_type": "code",
   "execution_count": null,
   "metadata": {},
   "outputs": [],
   "source": [
    "plt.figure(figsize=(7,4))\n",
    "plt.hist(tokens_per_page, bins=50, range=(00, min(max(tokens_per_page), 2000000)))\n",
    "plt.xlabel(\"# tokens\")\n",
    "plt.ylabel(\"Número de páginas\")\n",
    "plt.tight_layout()\n",
    "\n",
    "plt.show()"
   ]
  },
  {
   "cell_type": "code",
   "execution_count": null,
   "metadata": {},
   "outputs": [],
   "source": [
    "tokens_clean = [t for t in tokens_per_page if t > 0 and t < 500000]\n",
    "\n",
    "plt.figure(figsize=(7, 4))\n",
    "\n",
    "sns.kdeplot(\n",
    "    tokens_clean,\n",
    "    bw_adjust=0.3,\n",
    "    log_scale=(False, False)\n",
    ")\n",
    "\n",
    "plt.xlabel(\"# tokens\")\n",
    "plt.ylabel(\"Densidade\")\n",
    "plt.tight_layout()\n",
    "plt.show()"
   ]
  }
 ],
 "metadata": {
  "kernelspec": {
   "display_name": "ciano",
   "language": "python",
   "name": "python3"
  },
  "language_info": {
   "codemirror_mode": {
    "name": "ipython",
    "version": 3
   },
   "file_extension": ".py",
   "mimetype": "text/x-python",
   "name": "python",
   "nbconvert_exporter": "python",
   "pygments_lexer": "ipython3",
   "version": "3.12.9"
  }
 },
 "nbformat": 4,
 "nbformat_minor": 2
}
