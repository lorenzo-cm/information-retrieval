{
 "cells": [
  {
   "cell_type": "code",
   "execution_count": null,
   "metadata": {},
   "outputs": [],
   "source": [
    "import gzip\n",
    "import os\n",
    "from warcio.archiveiterator import ArchiveIterator\n",
    "import tldextract\n",
    "import matplotlib.pyplot as plt\n",
    "\n",
    "# Diretório onde estão os arquivos WARC\n",
    "warc_dir = '../data'\n",
    "base_name = 'corpus_{:03d}.warc.gz'\n",
    "\n",
    "all_urls = []\n",
    "main_domains = []\n",
    "\n",
    "# Loop pelos arquivos corpus_000 até corpus_100\n",
    "for i in range(101):\n",
    "    file_name = base_name.format(i)\n",
    "    file_path = os.path.join(warc_dir, file_name)\n",
    "    if not os.path.exists(file_path):\n",
    "        continue\n",
    "\n",
    "    try:\n",
    "        with gzip.open(file_path, 'rb') as stream:\n",
    "            for record in ArchiveIterator(stream):\n",
    "                url = record.rec_headers.get_header('WARC-Target-URI')\n",
    "                if url:\n",
    "                    all_urls.append(url)\n",
    "                    # Extrai domínio principal sem subdomínio\n",
    "                    extracted = tldextract.extract(url)\n",
    "                    domain = f\"{extracted.domain}.{extracted.suffix}\"\n",
    "                    main_domains.append(domain)\n",
    "    except Exception as e:\n",
    "        print(f\"Erro ao processar {file_path}: {e}\")\n",
    "        continue\n",
    "\n",
    "# Dados para gráfico\n",
    "num_urls = len(all_urls)\n",
    "num_unique_domains = len(set(main_domains))\n",
    "\n",
    "# Gráfico\n",
    "plt.figure(figsize=(8, 6))\n",
    "plt.bar(['Total de URLs', 'Domínios Principais Únicos'], [num_urls, num_unique_domains], color=['blue', 'green'])\n",
    "plt.title('Quantidade de URLs e Domínios Principais')\n",
    "plt.ylabel('Quantidade')\n",
    "plt.grid(axis='y')\n",
    "plt.tight_layout()\n",
    "plt.show()\n"
   ]
  },
  {
   "cell_type": "code",
   "execution_count": null,
   "metadata": {},
   "outputs": [],
   "source": [
    "set(main_domains)"
   ]
  }
 ],
 "metadata": {
  "kernelspec": {
   "display_name": "ciano",
   "language": "python",
   "name": "python3"
  },
  "language_info": {
   "codemirror_mode": {
    "name": "ipython",
    "version": 3
   },
   "file_extension": ".py",
   "mimetype": "text/x-python",
   "name": "python",
   "nbconvert_exporter": "python",
   "pygments_lexer": "ipython3",
   "version": "3.12.9"
  }
 },
 "nbformat": 4,
 "nbformat_minor": 2
}
